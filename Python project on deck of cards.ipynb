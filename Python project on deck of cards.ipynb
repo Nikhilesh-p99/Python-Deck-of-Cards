{
 "cells": [
  {
   "cell_type": "code",
   "execution_count": 1,
   "id": "e031571b",
   "metadata": {},
   "outputs": [],
   "source": [
    "cards_points = ['A','K','Q','J','10','9','8','7','6','5','4','3','2']"
   ]
  },
  {
   "cell_type": "code",
   "execution_count": 2,
   "id": "045480c9",
   "metadata": {},
   "outputs": [],
   "source": [
    "cards_symbols = ['Spade','Heart','Diamond','Club']"
   ]
  },
  {
   "cell_type": "code",
   "execution_count": 3,
   "id": "7c08b0df",
   "metadata": {},
   "outputs": [
    {
     "name": "stdout",
     "output_type": "stream",
     "text": [
      "A Spade\n",
      "A Heart\n",
      "A Diamond\n",
      "A Club\n",
      "K Spade\n",
      "K Heart\n",
      "K Diamond\n",
      "K Club\n",
      "Q Spade\n",
      "Q Heart\n",
      "Q Diamond\n",
      "Q Club\n",
      "J Spade\n",
      "J Heart\n",
      "J Diamond\n",
      "J Club\n",
      "10 Spade\n",
      "10 Heart\n",
      "10 Diamond\n",
      "10 Club\n",
      "9 Spade\n",
      "9 Heart\n",
      "9 Diamond\n",
      "9 Club\n",
      "8 Spade\n",
      "8 Heart\n",
      "8 Diamond\n",
      "8 Club\n",
      "7 Spade\n",
      "7 Heart\n",
      "7 Diamond\n",
      "7 Club\n",
      "6 Spade\n",
      "6 Heart\n",
      "6 Diamond\n",
      "6 Club\n",
      "5 Spade\n",
      "5 Heart\n",
      "5 Diamond\n",
      "5 Club\n",
      "4 Spade\n",
      "4 Heart\n",
      "4 Diamond\n",
      "4 Club\n",
      "3 Spade\n",
      "3 Heart\n",
      "3 Diamond\n",
      "3 Club\n",
      "2 Spade\n",
      "2 Heart\n",
      "2 Diamond\n",
      "2 Club\n"
     ]
    }
   ],
   "source": [
    "for points in range(len(cards_points)):\n",
    "    for symbols in range (len(cards_symbols)):\n",
    "        print(cards_points[points],cards_symbols[symbols])"
   ]
  },
  {
   "cell_type": "code",
   "execution_count": 4,
   "id": "98f66a97",
   "metadata": {},
   "outputs": [],
   "source": [
    "from random import shuffle"
   ]
  },
  {
   "cell_type": "code",
   "execution_count": 5,
   "id": "d9e85bd3",
   "metadata": {},
   "outputs": [],
   "source": [
    "class Cards:\n",
    "    global cards_sign, cards_points\n",
    "    cards_symbols = ['Hearts', 'Diamonds', 'Clubs', 'Spades']\n",
    "    cards_points = ['2', '3', '4', '5', '6', '7', '8', '9', '10', 'J', 'Q', 'K','A']\n",
    "def __init__(self):\n",
    "        pass\n",
    "class Deck(Cards):\n",
    "    def __init__(self):\n",
    "        Cards.__init__(self)\n",
    "        self.mycardset = []\n",
    "        for n in cards_symbols:\n",
    "            for c in cards_points:\n",
    "                self.mycardset.append((c)+\" \"+\"of\"+\" \"+n)\n",
    "    def popCard(self):\n",
    "        if len(self.mycardset) == 0:\n",
    "            return \"CARDS CANNOT BE POPPED FURTHER \"\n",
    "        else:\n",
    "            cardpopped = self.mycardset.pop()\n",
    "            print(\"Card removed is\", cardpopped)"
   ]
  },
  {
   "cell_type": "code",
   "execution_count": 6,
   "id": "5103dd1f",
   "metadata": {},
   "outputs": [],
   "source": [
    "class ShuffleCards(Deck):\n",
    "    def __init__(self):\n",
    "        Deck.__init__(self)\n",
    "    def shuffle(self):\n",
    "        if len(self.mycardset) < 52:\n",
    "            print(\"cannot shuffle the cards\")\n",
    "        else:\n",
    "            shuffle(self.mycardset)\n",
    "            return self.mycardset\n",
    "    def popCard(self):\n",
    "        if len(self.mycardset) == 0:\n",
    "            return \"CARDS CANNOT BE POPPED FURTHER\"\n",
    "        else:\n",
    "            cardpopped = self.mycardset.pop()\n",
    "            return (cardpopped)"
   ]
  },
  {
   "cell_type": "code",
   "execution_count": 39,
   "id": "131d1ed3",
   "metadata": {},
   "outputs": [
    {
     "name": "stdout",
     "output_type": "stream",
     "text": [
      "\n",
      " Cards of DECK 1: \n",
      " ['2 of Spade', '3 of Spade', '4 of Spade', '5 of Spade', '6 of Spade', '7 of Spade', '8 of Spade', '9 of Spade', '10 of Spade', 'J of Spade', 'Q of Spade', 'K of Spade', 'A of Spade', '2 of Heart', '3 of Heart', '4 of Heart', '5 of Heart', '6 of Heart', '7 of Heart', '8 of Heart', '9 of Heart', '10 of Heart', 'J of Heart', 'Q of Heart', 'K of Heart', 'A of Heart', '2 of Diamond', '3 of Diamond', '4 of Diamond', '5 of Diamond', '6 of Diamond', '7 of Diamond', '8 of Diamond', '9 of Diamond', '10 of Diamond', 'J of Diamond', 'Q of Diamond', 'K of Diamond', 'A of Diamond', '2 of Club', '3 of Club', '4 of Club', '5 of Club', '6 of Club', '7 of Club', '8 of Club', '9 of Club', '10 of Club', 'J of Club', 'Q of Club', 'K of Club', 'A of Club']\n",
      "\n",
      " Cardsof DECK 2: \n",
      " ['8 of Club', '3 of Spade', '4 of Spade', 'K of Spade', '4 of Diamond', 'A of Spade', '5 of Heart', 'K of Club', '5 of Spade', '5 of Club', 'Q of Diamond', '9 of Diamond', '9 of Club', 'J of Diamond', '6 of Heart', '2 of Club', 'J of Heart', '4 of Club', '6 of Spade', 'K of Heart', 'Q of Spade', 'A of Diamond', '2 of Heart', '2 of Spade', '10 of Diamond', '6 of Diamond', '5 of Diamond', '10 of Spade', '10 of Club', '8 of Heart', '8 of Spade', '6 of Club', 'A of Club', 'A of Heart', 'J of Spade', '7 of Heart', '3 of Diamond', '9 of Heart', 'Q of Club', '4 of Heart', '3 of Club', '10 of Heart', 'Q of Heart', '3 of Heart', '7 of Diamond', '2 of Diamond', '7 of Club', 'K of Diamond', '7 of Spade', '8 of Diamond', 'J of Club', '9 of Spade']\n",
      "\n",
      " Random card from the deck: 9 of Spade\n",
      "\n",
      " Another random card from the deck: J of Club\n"
     ]
    }
   ],
   "source": [
    "# Creating objects\n",
    "objCards = Cards()\n",
    "objDeck = Deck()\n",
    "\n",
    "# Deck 1\n",
    "DECK1Cards = objDeck.mycardset\n",
    "print('\\n Cards of DECK 1: \\n', DECK1Cards)\n",
    "\n",
    "# Creating object\n",
    "objShuffleCards = ShuffleCards()\n",
    "\n",
    "# Deck 2\n",
    "DECK2Cards = objShuffleCards.shuffle()\n",
    "print('\\n Cardsof DECK 2: \\n', DECK2Cards)\n",
    "\n",
    "# Shuffle the cards and remove a random card\n",
    "print('\\n Random card from the deck:', objShuffleCards.popCard())\n",
    "print('\\n Another random card from the deck:', objShuffleCards.popCard())"
   ]
  }
 ],
 "metadata": {
  "kernelspec": {
   "display_name": "Python 3 (ipykernel)",
   "language": "python",
   "name": "python3"
  },
  "language_info": {
   "codemirror_mode": {
    "name": "ipython",
    "version": 3
   },
   "file_extension": ".py",
   "mimetype": "text/x-python",
   "name": "python",
   "nbconvert_exporter": "python",
   "pygments_lexer": "ipython3",
   "version": "3.9.12"
  }
 },
 "nbformat": 4,
 "nbformat_minor": 5
}
